{
 "cells": [
  {
   "cell_type": "code",
   "execution_count": 3,
   "id": "6488c426",
   "metadata": {},
   "outputs": [
    {
     "data": {
      "image/png": "[encoded data removed]",
      "text/plain": [
       "<Figure size 432x288 with 1 Axes>"
      ]
     },
     "metadata": {
      "needs_background": "light"
     },
     "output_type": "display_data"
    }
   ],
   "source": [
    "import pandas as pd\n",
    "import numpy as np\n",
    "from scipy import stats\n",
    "import matplotlib.pyplot as plt\n",
    "\n",
    "class ANOVAAnalysis:\n",
    "    def __init__(self, data_path):\n",
    "        self.data = pd.read_csv(data_path, delimiter='\\t')\n",
    "        self.data_list = self.data.iloc[:, 1:49].values.tolist()\n",
    "        self.gene = self.data.iloc[:, 49:50].values.tolist()\n",
    "        self.A = self.create_A_matrix()\n",
    "        self.B = self.create_B_matrix()\n",
    "        self.F = self.calculate_F_values()\n",
    "\n",
    "    def create_A_matrix(self):\n",
    "        A = np.zeros((48, 4))\n",
    "        for i in range(4):\n",
    "            for j in range(12):\n",
    "                A[j + (i * 12)][i] = 1\n",
    "        return np.matrix(A)\n",
    "    \n",
    "    def create_B_matrix(self):\n",
    "        B = np.zeros((48, 4))\n",
    "        for i in range(24):\n",
    "            B[i][0] = 1\n",
    "        for i in range(24):\n",
    "            B[24 + i][1] = 1\n",
    "        for i in range(12):\n",
    "            B[i][2] = 1\n",
    "        for i in range(12):\n",
    "            B[i + 24][2] = 1\n",
    "        for i in range(12):\n",
    "            B[i + 12][3] = 1\n",
    "        for i in range(12):\n",
    "            B[i + 36][3] = 1\n",
    "        return np.matrix(B)\n",
    "\n",
    "    def calculate_F_values(self):\n",
    "        F_values = []\n",
    "        for j in self.data_list:\n",
    "            i = np.matrix(j)\n",
    "            temp = np.dot(np.dot(self.A, np.linalg.pinv(np.dot(self.A.T, self.A))), self.A.T)\n",
    "            temp1 = np.dot(np.dot(self.B, np.linalg.pinv(np.dot(self.B.T, self.B))), self.B.T)\n",
    "            temp2 = np.subtract(temp, temp1)\n",
    "            numerator = np.dot(np.dot(i, temp2), i.T)\n",
    "            I = np.identity(48)\n",
    "            denominator = np.dot(np.dot(i, np.subtract(I, temp)), i.T)\n",
    "            \n",
    "            # Checking if denominator is very close to zero (avoiding division by nearly zero)\n",
    "            if np.abs(denominator[0][0]) < 1e-10:\n",
    "                val = np.nan\n",
    "            else:\n",
    "                val = float(numerator.item() / denominator.item()) * ((48 - np.linalg.matrix_rank(self.A)) / (np.linalg.matrix_rank(self.A) - np.linalg.matrix_rank(self.B)))\n",
    "\n",
    "            F_values.append(val)\n",
    "        return F_values\n",
    "\n",
    "\n",
    "    def plot_histogram(self, color='purple'):\n",
    "        one = 48 - np.linalg.matrix_rank(self.A)\n",
    "        two = np.linalg.matrix_rank(self.A) - np.linalg.matrix_rank(self.B)\n",
    "        p_values = 1 - stats.f.cdf(self.F, two, one)\n",
    "        updated_p_values = [p for p in p_values if p < 1]\n",
    "            \n",
    "        plt.hist(updated_p_values, bins=10, color=color)\n",
    "        plt.xlabel(\"Updated p value\")\n",
    "        plt.ylabel(\"Frequency\")\n",
    "        plt.savefig('histogram.png')\n",
    "        plt.show()\n",
    "\n",
    "if __name__ == \"__main__\":\n",
    "    data_path = \"./Data/Raw Data_GeneSpring.txt\"\n",
    "    analysis = ANOVAAnalysis(data_path)\n",
    "    analysis.plot_histogram()\n"
   ]
  },
  {
   "cell_type": "code",
   "execution_count": null,
   "id": "5a3f4a90",
   "metadata": {},
   "outputs": [],
   "source": [
    "|"
   ]
  }
 ],
 "metadata": {
  "kernelspec": {
   "display_name": "Python 3 (ipykernel)",
   "language": "python",
   "name": "python3"
  },
  "language_info": {
   "codemirror_mode": {
    "name": "ipython",
    "version": 3
   },
   "file_extension": ".py",
   "mimetype": "text/x-python",
   "name": "python",
   "nbconvert_exporter": "python",
   "pygments_lexer": "ipython3",
   "version": "3.10.10"
  }
 },
 "nbformat": 4,
 "nbformat_minor": 5
}
